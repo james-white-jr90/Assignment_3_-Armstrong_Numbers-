{
 "cells": [
  {
   "cell_type": "code",
   "execution_count": null,
   "metadata": {},
   "outputs": [],
   "source": [
    "a = input(\"Enter a number please \\n\")\n",
    "if  a.isdigit() == True :\n",
    "    c = 0\n",
    "    for b in a:\n",
    "        b = int(b)\n",
    "        c += b**len(a)\n",
    "    a = int(a)\n",
    "    if c == a:\n",
    "        print (\"{} is an amstrong number.\".format(a))\n",
    "    else: \n",
    "        print (\"{} is not an amstrong number.\".format(a))\n",
    "elif a[0] == \"-\" :\n",
    "    print(\"Please enter a positive number\")\n",
    "elif \".\" in a or \",\" in a: \n",
    "    print(\"Please enter an integer number\")\n",
    "else : print(\"Do not use any entries other than numeric values\")"
   ]
  }
 ],
 "metadata": {
  "kernelspec": {
   "display_name": "Python 3",
   "language": "python",
   "name": "python3"
  },
  "language_info": {
   "codemirror_mode": {
    "name": "ipython",
    "version": 3
   },
   "file_extension": ".py",
   "mimetype": "text/x-python",
   "name": "python",
   "nbconvert_exporter": "python",
   "pygments_lexer": "ipython3",
   "version": "3.7.7"
  }
 },
 "nbformat": 4,
 "nbformat_minor": 4
}
